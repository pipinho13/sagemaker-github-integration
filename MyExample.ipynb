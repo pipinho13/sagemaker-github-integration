{
 "cells": [
  {
   "cell_type": "code",
   "execution_count": 1,
   "id": "dcdfe559",
   "metadata": {},
   "outputs": [],
   "source": [
    "import pandas as pd"
   ]
  },
  {
   "cell_type": "code",
   "execution_count": 2,
   "id": "7b91db1c",
   "metadata": {},
   "outputs": [
    {
     "name": "stdout",
     "output_type": "stream",
     "text": [
      "Hello Predictive Hacks\n"
     ]
    }
   ],
   "source": [
    "print(\"Hello Predictive Hacks\")"
   ]
  },
  {
   "cell_type": "code",
   "execution_count": 3,
   "id": "c01c7e32",
   "metadata": {},
   "outputs": [],
   "source": [
    "# I add a comment"
   ]
  },
  {
   "cell_type": "code",
   "execution_count": null,
   "id": "ab964945",
   "metadata": {},
   "outputs": [],
   "source": []
  },
  {
   "cell_type": "code",
   "execution_count": null,
   "id": "f0104243",
   "metadata": {},
   "outputs": [],
   "source": []
  }
 ],
 "metadata": {
  "kernelspec": {
   "display_name": "conda_python3",
   "language": "python",
   "name": "conda_python3"
  },
  "language_info": {
   "codemirror_mode": {
    "name": "ipython",
    "version": 3
   },
   "file_extension": ".py",
   "mimetype": "text/x-python",
   "name": "python",
   "nbconvert_exporter": "python",
   "pygments_lexer": "ipython3",
   "version": "3.6.13"
  }
 },
 "nbformat": 4,
 "nbformat_minor": 5
}
